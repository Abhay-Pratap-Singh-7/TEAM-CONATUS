{
 "cells": [
  {
   "cell_type": "code",
   "execution_count": null,
   "id": "03f14292-f09e-44c1-962c-59445385bb66",
   "metadata": {},
   "outputs": [],
   "source": [
    "print(\"hello\")"
   ]
  }
 ],
 "metadata": {
  "kernelspec": {
   "display_name": "",
   "name": ""
  },
  "language_info": {
   "name": ""
  }
 },
 "nbformat": 4,
 "nbformat_minor": 5
}
